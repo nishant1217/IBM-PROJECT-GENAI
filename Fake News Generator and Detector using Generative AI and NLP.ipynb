{
 "cells": [
  {
   "cell_type": "markdown",
   "metadata": {
    "id": "FzeG-YxzNVcs"
   },
   "source": [
    "# Detecting and Generating Fake News using GenAI & NLP Models (GPT-2 & BERT)\n",
    "\n",
    "This student project explores the dual role of Artificial Intelligence in both **creating** and **identifying** misinformation in the digital world. By leveraging two state-of-the-art NLP models, this system provides insight into how language models can be applied to real-world challenges.\n",
    "\n",
    "- **News Headline Generation**: The GPT-2 model is used to craft synthetic news headlines based on a short text prompt. This highlights how generative models can produce convincing fake content.\n",
    "\n",
    "- **Fake News Classification**: A BERT-based classifier, fine-tuned on fake news datasets, is employed to assess whether a given headline is *fake* or *real*, showing how machine learning can help combat disinformation.\n",
    "\n",
    ">\n",
    "\n",
    "---\n",
    "\n",
    "## Instructions:\n",
    "1. Run each step in the notebook sequentially.\n",
    "2. Use the provided CLI to:\n",
    "   - Generate synthetic news headlines.\n",
    "   - Analyze and detect fake or real headlines."
   ]
  },
  {
   "cell_type": "markdown",
   "metadata": {
    "id": "5ca-a2zWLJHa"
   },
   "source": [
    "## Step 1 : Install & Import Libraries Required"
   ]
  },
  {
   "cell_type": "code",
   "execution_count": 1,
   "metadata": {
    "id": "XslpQb3MAxdu"
   },
   "outputs": [],
   "source": [
    "!pip install transformers datasets torch gradio --quiet\n",
    "\n",
    "from transformers import GPT2LMHeadModel, GPT2Tokenizer\n",
    "from transformers import BertTokenizer, BertForSequenceClassification, pipeline\n",
    "import torch\n",
    "import gradio as gr\n"
   ]
  },
  {
   "cell_type": "markdown",
   "metadata": {
    "id": "Pi5h9WS1LTrI"
   },
   "source": [
    "## Step 2 : Load Pre-Trained Models"
   ]
  },
  {
   "cell_type": "code",
   "execution_count": 2,
   "metadata": {
    "colab": {
     "base_uri": "https://localhost:8080/",
     "height": 483,
     "referenced_widgets": [
      "0fdbf95441d341c2b02bcb2fcbb348fd",
      "006929ae88af4cf598351682108368be",
      "0e35cb3948fb4365b458636b37d89756",
      "01c434cc56b74a63ada2bac7d3a41476",
      "153c5872c0ee4df3a571938a84defc68",
      "50ca0db74a0a40609d617aa746cfafdd",
      "1c5b765b79a148caa334b4d63ae056e4",
      "ff0e544471664853899222e2c4eeeaad",
      "7cfc44f4841f4c4e942646cc1a663a55",
      "4e17575ae4c8480aaf21078c286869cf",
      "44846cbfefe8467789283208ea5e07a0",
      "d8f44e25180440b39a2aa162e1c9be1b",
      "851b1bc4161a41f7b0834f9dc9bda82f",
      "f2afdbd13c09415a8f16bcfbe0076a99",
      "9b1cf58ea3c34dce8ee0923db952b0f5",
      "bd6f563507a54a43b7240be9721a9136",
      "4d537588f5344153bd019ca75e45f0ec",
      "68015590c5cd48eab8ebc0727e5863e5",
      "08e45a7948e64f518a765165ba421e86",
      "9e0bb3cb9898490ba12f4a62b54f72bb",
      "0a18da77ef23419bbad16358991ca4b1",
      "d4851f8fe09e402f98c06420b6ba710a",
      "3ab42523aa33495690de17a3ccbcfbda",
      "243e4aa06d5746a7b1b79730f897f2f1",
      "0887727642fa4ea0b1470526feaf312f",
      "0368dba240e34302b76bb13aeb5590db",
      "a027e797b5e34d76a4c81b98c916b7ab",
      "ee4180adbd2b4c0dae2bb23048bfe4cb",
      "1cc26169edca427fafff98b6fb406962",
      "dcbe55f228bf4801873cd4bb41080a35",
      "71e8a5ee095e471fb880aecb1f31173c",
      "479b005d7161422aa72ac6093dfba92b",
      "c5b9b8bedd3f478cabc4b73cc0de55db",
      "bb970c96ca0d4ae792709b18ea4a36e5",
      "18a3379239314bb5b30f5f78dcc8506c",
      "b687bc1bc28a4fd389deaa9769b414bf",
      "19c001b3637240f5bb2d87bc68f7cdc4",
      "5c8c5471dead405cb0ff1e8af2c0968c",
      "24bcbd53d7394eb5a6f958159db4f0e8",
      "d4edf42324a9422c9c81ffbf9bc34e58",
      "dbf5cb132d3440ffbdd7da1afde81fb4",
      "a9a4239138f8426d9358d3f62f30a255",
      "59477853dff3493b879edd287665046c",
      "57125d10d76741fdabd278a63d87895d",
      "01f5ecede5d44767808481f9505c8e94",
      "67613c88514a461995283fc30ee2643f",
      "9aed0bb29de144f19bc841a8e442fb2c",
      "6d5a538883ac49f08d065fa0d22ea1c7",
      "0f5470d63cfa4386817adf490bdf83d5",
      "dda160b0c7594b25b4766ce2cb2e96ab",
      "a36976287fc148eaadd6fce24af4e8a9",
      "5e733115568e4e6f8fb06db9bba39fb9",
      "c5f7d081aab94823bd950b2bdaa8e88b",
      "eb0c8741c1ba4157ab7fae147fbd8a00",
      "d0f77291c57a422caee65c34049af2c9",
      "a0c67172c5f54b58b147c0535e9da2e7",
      "99172f3d31e54b54b55ec4382d8fb891",
      "26461ee2f2df4fdd848340ef979806cf",
      "e7be62eedf804ed28edabf272c9850fd",
      "6fe16c6915b449f0989cf4931edb3de3",
      "ca7c0f7e9b8b4472a460fad5734b4cb4",
      "665b83d3eae8481e8ccbd0c926d09b34",
      "8b3d4bd5ea0148e58816376d114d130d",
      "b6c61f35be204824b61fe071d2243e2f",
      "10a5e8a21ebe4956ac7184a450e400ef",
      "5abfb041a28e4f12940cc28227c1ed95",
      "5424647e4936484b96516f9a4f7536f8",
      "282d40ce6ee14e33a678abf4c1ee5044",
      "3ec4ca39902d4cc7a8909febbe144d43",
      "fd2348faff6148518019b8927747b3fe",
      "4a492597f16648d98f96b2fe32354a64",
      "b387c90edcf14386aed1bb5c60fe582a",
      "a11d550905f84a8a90ebe8112c69efe2",
      "6f280d9c4e734833aa3e92df914e426c",
      "cde575b808004f22a5d2527ff3f19c34",
      "229c9646ada8451c9d6eb91753e38ce5",
      "253512141a3447faa282db543b5d1faf",
      "11a26e5f21cf41c7a69ce5a63bab15f9",
      "02c4044ce9a54813919bce13345189d2",
      "005031cb42584c148936cfe07d3e503d",
      "3e005012403141209fed8aec8cbffbd4",
      "67a023e0c02949eea1e32068a9b04604",
      "4faa11ed4a204d5490b456d0841ffa99",
      "ad4000da05244c928d95ed75d85fcd7e",
      "31ab0dacb69542cca982e20aae6fc1f9",
      "8bcf91471cae4075a0f62300efe97fcd",
      "c070e3b5cbe94148a2c9cf33bd6499ea",
      "b11c04b471934410912680b5b6b4187d",
      "0302971d6db04f1db9cf1cf85738e490",
      "a77eaa8e7d9246bd912e02962daac40a",
      "e49cc26e6a7141c287c8d307d14aa5fc",
      "d250c6d48833444a99d81ba49b19054a",
      "74814b0ed9ef47869dbd89c77bdabe63",
      "718847ac5a8a464ba4ff581a30d94f72",
      "b1903960c26a4153be5f65a687669f6e",
      "5f397f56496147aa91f739d068f123f3",
      "984f8098f83840c7b56ff2ca935df878",
      "5e497dce32e246c484cd603051cbc4e7",
      "20a7e0846ada4273b5c3b8752c5b5a13",
      "2d7e16a6c4904c2fbdc9443fe97459b1",
      "dfd02cb708884799a3f23abc75d4e4aa",
      "92f68423fa2e48b78f2f4ef03de43ae9",
      "ba2267295e554db6a1567c14fed6e14d",
      "cdcceddd276f43c6854c0a9d1cb1538e",
      "aa661f062c474d7d918051d6bd55b0ce",
      "affee7e389c7428d9f2a7ff4ce2dbd63",
      "4d7fc1c963964b5e9356db37e5ae47dd",
      "ea3b61f97ddd4f5298a9a68749410fbd",
      "f940c0c8398941ac9af8d0492d79383f",
      "ad87e9f3e6be4900a24f871a285110fc",
      "d0dc1433e70e46a3849cdcb65d0c9c20",
      "4076c7fff19f42638958a0afcd671afb",
      "bdc0ddc0cd6d4307b958fecf43d0db3b",
      "57eb55b5b8444c82a23097ccc82dc997",
      "93e1ec72fd09458589893c8046278532",
      "4452a76556604bd59a9777e627112854",
      "7a3bfe29ba3e4ff6a58c132cddd941d2",
      "db4cba078d97448f866090a333669b91",
      "45250c835e474f7fa93511a331ea7186",
      "48b66848366042329d3400d9ff167c18",
      "5b7b069076d448db8ee1c54f349cf496",
      "faa04742d0e24e198007a11d30081c29",
      "05c812400960495abda109db6b1d7326",
      "b22c6bd526f44a5a950624516b11c84b",
      "03c4b36da70b4f589d7a6e5475d321e1",
      "25b38192bafc49e5a107692467ecca87",
      "fb528d86755f4a408823f9b8871dcb39",
      "2b33b88a810b467d99ae10dc347baf82",
      "1a35fb29a42f49d89baf74fd9b5befe9",
      "a02586de02884f398edc4794ab332d29",
      "d3eb3d242fed4038bc4d070011b3722b",
      "ab0b89f95b234213aef58b4c9332e303",
      "cc4b66d7000a460099c68582f350a2dd",
      "f73057295e994bbe9fbce5250035eb5e",
      "66b4b109c3e14ecf98023b1868c4add5",
      "7b1062ad366242b59c831260fb4da66a",
      "3b9002d8c8d441128ca007c100d897d0",
      "d7a73ebd98b34d99bd302916cbc57b4e",
      "7bb35bd5c7ae42e899683c7f5a9debd6",
      "b64c236fcc1e415fb640b24f0121dcdf",
      "0e36d0056f5d48dda16e227138fd1d20",
      "8369028ac1384fffada77da83d84c2c8",
      "484b33a0a65647dfb74695b8a866ab7a",
      "f8bd27d282a84200a19dfc8b831c9004",
      "77ccd91ede93433fac292a99b87c24eb",
      "924da0f5a91246df873609151664de9a",
      "3a46efc91ced4eb39026c47e5a380a34",
      "afc60f327e944c75ab060fb85d7b26de",
      "84c4a144c3fe45bd9b7f6f14f5390817",
      "f66274d37ed94c9a8a016235e950b6ac",
      "0179e3d8cc0248a68a39c7cedf710dad",
      "615df0b161114643800fbeb322b7249d",
      "79967edb94fa401f839697264ae67432",
      "0a5239fb2d1040b08631558e26336825"
     ]
    },
    "id": "wtlRy7hwDSRu",
    "outputId": "aef14242-bb5a-4c9e-c595-02257783bcfb"
   },
   "outputs": [
    {
     "data": {
      "application/vnd.jupyter.widget-view+json": {
       "model_id": "0fdbf95441d341c2b02bcb2fcbb348fd",
       "version_major": 2,
       "version_minor": 0
      },
      "text/plain": [
       "tokenizer_config.json:   0%|          | 0.00/26.0 [00:00<?, ?B/s]"
      ]
     },
     "metadata": {},
     "output_type": "display_data"
    },
    {
     "data": {
      "application/vnd.jupyter.widget-view+json": {
       "model_id": "d8f44e25180440b39a2aa162e1c9be1b",
       "version_major": 2,
       "version_minor": 0
      },
      "text/plain": [
       "vocab.json:   0%|          | 0.00/1.04M [00:00<?, ?B/s]"
      ]
     },
     "metadata": {},
     "output_type": "display_data"
    },
    {
     "data": {
      "application/vnd.jupyter.widget-view+json": {
       "model_id": "3ab42523aa33495690de17a3ccbcfbda",
       "version_major": 2,
       "version_minor": 0
      },
      "text/plain": [
       "merges.txt:   0%|          | 0.00/456k [00:00<?, ?B/s]"
      ]
     },
     "metadata": {},
     "output_type": "display_data"
    },
    {
     "data": {
      "application/vnd.jupyter.widget-view+json": {
       "model_id": "bb970c96ca0d4ae792709b18ea4a36e5",
       "version_major": 2,
       "version_minor": 0
      },
      "text/plain": [
       "tokenizer.json:   0%|          | 0.00/1.36M [00:00<?, ?B/s]"
      ]
     },
     "metadata": {},
     "output_type": "display_data"
    },
    {
     "data": {
      "application/vnd.jupyter.widget-view+json": {
       "model_id": "01f5ecede5d44767808481f9505c8e94",
       "version_major": 2,
       "version_minor": 0
      },
      "text/plain": [
       "config.json:   0%|          | 0.00/665 [00:00<?, ?B/s]"
      ]
     },
     "metadata": {},
     "output_type": "display_data"
    },
    {
     "data": {
      "application/vnd.jupyter.widget-view+json": {
       "model_id": "a0c67172c5f54b58b147c0535e9da2e7",
       "version_major": 2,
       "version_minor": 0
      },
      "text/plain": [
       "model.safetensors:   0%|          | 0.00/548M [00:00<?, ?B/s]"
      ]
     },
     "metadata": {},
     "output_type": "display_data"
    },
    {
     "data": {
      "application/vnd.jupyter.widget-view+json": {
       "model_id": "5424647e4936484b96516f9a4f7536f8",
       "version_major": 2,
       "version_minor": 0
      },
      "text/plain": [
       "generation_config.json:   0%|          | 0.00/124 [00:00<?, ?B/s]"
      ]
     },
     "metadata": {},
     "output_type": "display_data"
    },
    {
     "data": {
      "application/vnd.jupyter.widget-view+json": {
       "model_id": "11a26e5f21cf41c7a69ce5a63bab15f9",
       "version_major": 2,
       "version_minor": 0
      },
      "text/plain": [
       "config.json:   0%|          | 0.00/735 [00:00<?, ?B/s]"
      ]
     },
     "metadata": {},
     "output_type": "display_data"
    },
    {
     "data": {
      "application/vnd.jupyter.widget-view+json": {
       "model_id": "0302971d6db04f1db9cf1cf85738e490",
       "version_major": 2,
       "version_minor": 0
      },
      "text/plain": [
       "pytorch_model.bin:   0%|          | 0.00/499M [00:00<?, ?B/s]"
      ]
     },
     "metadata": {},
     "output_type": "display_data"
    },
    {
     "data": {
      "application/vnd.jupyter.widget-view+json": {
       "model_id": "2d7e16a6c4904c2fbdc9443fe97459b1",
       "version_major": 2,
       "version_minor": 0
      },
      "text/plain": [
       "model.safetensors:   0%|          | 0.00/499M [00:00<?, ?B/s]"
      ]
     },
     "metadata": {},
     "output_type": "display_data"
    },
    {
     "data": {
      "application/vnd.jupyter.widget-view+json": {
       "model_id": "d0dc1433e70e46a3849cdcb65d0c9c20",
       "version_major": 2,
       "version_minor": 0
      },
      "text/plain": [
       "tokenizer_config.json: 0.00B [00:00, ?B/s]"
      ]
     },
     "metadata": {},
     "output_type": "display_data"
    },
    {
     "data": {
      "application/vnd.jupyter.widget-view+json": {
       "model_id": "faa04742d0e24e198007a11d30081c29",
       "version_major": 2,
       "version_minor": 0
      },
      "text/plain": [
       "vocab.json: 0.00B [00:00, ?B/s]"
      ]
     },
     "metadata": {},
     "output_type": "display_data"
    },
    {
     "data": {
      "application/vnd.jupyter.widget-view+json": {
       "model_id": "cc4b66d7000a460099c68582f350a2dd",
       "version_major": 2,
       "version_minor": 0
      },
      "text/plain": [
       "merges.txt: 0.00B [00:00, ?B/s]"
      ]
     },
     "metadata": {},
     "output_type": "display_data"
    },
    {
     "data": {
      "application/vnd.jupyter.widget-view+json": {
       "model_id": "f8bd27d282a84200a19dfc8b831c9004",
       "version_major": 2,
       "version_minor": 0
      },
      "text/plain": [
       "special_tokens_map.json:   0%|          | 0.00/772 [00:00<?, ?B/s]"
      ]
     },
     "metadata": {},
     "output_type": "display_data"
    },
    {
     "name": "stderr",
     "output_type": "stream",
     "text": [
      "Device set to use cuda:0\n"
     ]
    }
   ],
   "source": [
    "gpt2_tokenizer = GPT2Tokenizer.from_pretrained(\"gpt2\")\n",
    "gpt2_model = GPT2LMHeadModel.from_pretrained(\"gpt2\")\n",
    "gpt2_model.config.pad_token_id = gpt2_tokenizer.eos_token_id\n",
    "\n",
    "clf = pipeline(\"text-classification\", model=\"jy46604790/Fake-News-Bert-Detect\", tokenizer=\"jy46604790/Fake-News-Bert-Detect\")"
   ]
  },
  {
   "cell_type": "markdown",
   "metadata": {
    "id": "Kc8A2VGtLdu4"
   },
   "source": [
    "## Step 3 : Define Generation and Detection Functions"
   ]
  },
  {
   "cell_type": "code",
   "execution_count": 3,
   "metadata": {
    "id": "aCM9OkQDEbYE"
   },
   "outputs": [],
   "source": [
    "def generate_fake_news(prompt=\"Breaking News:\"):\n",
    "    input_ids = gpt2_tokenizer.encode(prompt, return_tensors='pt')\n",
    "    attention_mask = torch.ones_like(input_ids)\n",
    "\n",
    "    outputs = gpt2_model.generate(\n",
    "        input_ids,\n",
    "        attention_mask=attention_mask,\n",
    "        max_length=30,\n",
    "        num_return_sequences=5,\n",
    "        do_sample=True,\n",
    "        temperature=0.9,\n",
    "        top_k=50,\n",
    "        top_p=0.95,\n",
    "        pad_token_id=gpt2_tokenizer.eos_token_id\n",
    "    )\n",
    "\n",
    "    headlines = []\n",
    "    for output in outputs:\n",
    "        headline = gpt2_tokenizer.decode(output, skip_special_tokens=True)\n",
    "        headlines.append(headline)\n",
    "    return \"\\n\".join([f\"{i+1}. {h}\" for i, h in enumerate(headlines)])\n",
    "\n",
    "\n",
    "def detect_fake_news(text):\n",
    "    result = clf(text[:500])[0]\n",
    "    label = \"FAKE\" if result['label'] == \"LABEL_0\" else \"REAL\"\n",
    "    confidence = round(result['score'] * 100, 2)\n",
    "    return f\"📝 Input: {text}\\n Prediction: {label}\\n Confidence: {confidence}%\""
   ]
  },
  {
   "cell_type": "markdown",
   "metadata": {
    "id": "jjGLgBVqLjf4"
   },
   "source": [
    "## Step 4 : Run the Fake News Generator & Detector"
   ]
  },
  {
   "cell_type": "code",
   "execution_count": 5,
   "metadata": {
    "colab": {
     "base_uri": "https://localhost:8080/"
    },
    "id": "eSdP4clSEu7z",
    "outputId": "61252633-26aa-4115-c081-730100066b57"
   },
   "outputs": [
    {
     "name": "stdout",
     "output_type": "stream",
     "text": [
      "\n",
      "Fake News Generator & Detector\n",
      "\n",
      "\n",
      "Choose an option:\n",
      "1 - Generate Fake News Headlines\n",
      "2 - Detect Fake/Real Headline\n",
      "Type 'exit' to quit.\n",
      "Enter 1 / 2 / exit: 1\n",
      "Enter a prompt: Sports\n",
      "\n",
      "Generated Headlines:\n",
      "\n",
      "1. Sports was very nice. I think I was great in that game too.\"\n",
      "\n",
      "On Monday, at a press conference in New York City, Sanders\n",
      "2. Sports's final game, a five-minute drive from Boston, where the Bruins won their last two games and will play host to the Montreal Canadiens on\n",
      "3. Sports-News/AP Photo/John Minchillo The Associated Press 7/20 President Donald Trump speaks at the Democratic National Convention in Philadelphia, Tuesday\n",
      "4. Sports.com) is committed to providing a safe, secure and efficient online sports league for all ages.\n",
      "\n",
      "In the NFL, the National Football\n",
      "5. Sports; or (4) any other program or person, (a) with respect to the program or person in respect of which the Director has the\n",
      "\n",
      "Choose an option:\n",
      "1 - Generate Fake News Headlines\n",
      "2 - Detect Fake/Real Headline\n",
      "Type 'exit' to quit.\n",
      "Enter 1 / 2 / exit: 2\n",
      "Enter a news headline: India sends man to moon\n",
      "\n",
      "Detection Result:\n",
      "\n",
      "📝 Input: India sends man to moon\n",
      " Prediction: FAKE\n",
      " Confidence: 97.31%\n",
      "\n",
      "Choose an option:\n",
      "1 - Generate Fake News Headlines\n",
      "2 - Detect Fake/Real Headline\n",
      "Type 'exit' to quit.\n",
      "Enter 1 / 2 / exit: America send man to space\n",
      "Invalid input. Try again.\n",
      "\n",
      "Choose an option:\n",
      "1 - Generate Fake News Headlines\n",
      "2 - Detect Fake/Real Headline\n",
      "Type 'exit' to quit.\n",
      "Enter 1 / 2 / exit: 2\n",
      "Enter a news headline: America sends Man to spacw\n",
      "\n",
      "Detection Result:\n",
      "\n",
      "📝 Input: America sends Man to spacw\n",
      " Prediction: FAKE\n",
      " Confidence: 99.76%\n",
      "\n",
      "Choose an option:\n",
      "1 - Generate Fake News Headlines\n",
      "2 - Detect Fake/Real Headline\n",
      "Type 'exit' to quit.\n",
      "Enter 1 / 2 / exit: exit\n",
      "Exiting... Goodbye!\n"
     ]
    }
   ],
   "source": [
    "print(\"\\nFake News Generator & Detector\\n\")\n",
    "\n",
    "while True:\n",
    "    print(\"\\nChoose an option:\")\n",
    "    print(\"1 - Generate Fake News Headlines\")\n",
    "    print(\"2 - Detect Fake/Real Headline\")\n",
    "    print(\"Type 'exit' to quit.\")\n",
    "\n",
    "    choice = input(\"Enter 1 / 2 / exit: \").strip().lower()\n",
    "\n",
    "    if choice == '1':\n",
    "        prompt = input(\"Enter a prompt: \").strip()\n",
    "        print(\"\\nGenerated Headlines:\\n\")\n",
    "        print(generate_fake_news(prompt if prompt else \"Breaking News:\"))\n",
    "\n",
    "    elif choice == '2':\n",
    "        text = input(\"Enter a news headline: \").strip()\n",
    "        print(\"\\nDetection Result:\\n\")\n",
    "        print(detect_fake_news(text))\n",
    "\n",
    "    elif choice == 'exit':\n",
    "        print(\"Exiting... Goodbye!\")\n",
    "        break\n",
    "    else:\n",
    "        print(\"Invalid input. Try again.\")\n"
   ]
  }
 ],
 "metadata": {
  "accelerator": "GPU",
  "colab": {
   "gpuType": "T4",
   "provenance": []
  },
  "kernelspec": {
   "display_name": "Python 3",
   "name": "python3"
  },
  "language_info": {
   "name": "python"
  }
 },
 "nbformat": 4,
 "nbformat_minor": 0
}
